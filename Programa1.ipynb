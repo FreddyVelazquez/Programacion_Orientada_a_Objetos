{
  "nbformat": 4,
  "nbformat_minor": 0,
  "metadata": {
    "colab": {
      "provenance": [],
      "authorship_tag": "ABX9TyMssqZx+j5lmhtPG/rbe6BM",
      "include_colab_link": true
    },
    "kernelspec": {
      "name": "python3",
      "display_name": "Python 3"
    },
    "language_info": {
      "name": "python"
    }
  },
  "cells": [
    {
      "cell_type": "markdown",
      "metadata": {
        "id": "view-in-github",
        "colab_type": "text"
      },
      "source": [
        "<a href=\"https://colab.research.google.com/github/FreddyVelazquez/Programacion_Orientada_a_Objetos/blob/main/Programa1.ipynb\" target=\"_parent\"><img src=\"https://colab.research.google.com/assets/colab-badge.svg\" alt=\"Open In Colab\"/></a>"
      ]
    },
    {
      "cell_type": "code",
      "execution_count": null,
      "metadata": {
        "id": "ucQy2t8F4Rru"
      },
      "outputs": [],
      "source": []
    },
    {
      "cell_type": "markdown",
      "source": [
        "#**Programación Orientada a Objetos**\n",
        "##**Unidad 1.Introduccion a POO**\n",
        "###**Maestro:Jose Gabriel Rodriguez Rivas**\n",
        "###**Alumno: Freddy Mariano Velazquez Cerros**"
      ],
      "metadata": {
        "id": "P8kkAeT74Wma"
      }
    },
    {
      "cell_type": "code",
      "source": [
        "#declarar variables\n",
        "#python no hay nesesidad de declarar el tipo de variable\n",
        "#Cuando se le asigna el valor, automaticamente python ya sabe de que tipo es\n",
        "#Python es case Sensitive es decir que es sencible a las mayusculas a la hora de declarar variables\n",
        "x=5\n",
        "msg=\"Hola Mundo\"\n",
        "print(x, msg)\n"
      ],
      "metadata": {
        "id": "8x-dn8xd6Lq3"
      },
      "execution_count": null,
      "outputs": []
    }
  ]
}