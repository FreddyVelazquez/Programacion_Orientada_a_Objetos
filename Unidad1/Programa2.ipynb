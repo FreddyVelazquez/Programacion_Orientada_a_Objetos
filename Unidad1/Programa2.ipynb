{
  "nbformat": 4,
  "nbformat_minor": 0,
  "metadata": {
    "colab": {
      "provenance": [],
      "authorship_tag": "ABX9TyOqTWeFthf7yyf8fj2glQ4D",
      "include_colab_link": true
    },
    "kernelspec": {
      "name": "python3",
      "display_name": "Python 3"
    },
    "language_info": {
      "name": "python"
    }
  },
  "cells": [
    {
      "cell_type": "markdown",
      "metadata": {
        "id": "view-in-github",
        "colab_type": "text"
      },
      "source": [
        "<a href=\"https://colab.research.google.com/github/FreddyVelazquez/Programacion_Orientada_a_Objetos/blob/main/Unidad1/Programa2.ipynb\" target=\"_parent\"><img src=\"https://colab.research.google.com/assets/colab-badge.svg\" alt=\"Open In Colab\"/></a>"
      ]
    },
    {
      "cell_type": "code",
      "execution_count": null,
      "metadata": {
        "id": "M9nAo3I2a7Im"
      },
      "outputs": [],
      "source": [
        "variable = input(\"Escribe tu Nombre:\")\n",
        "print(\"Tu nombre es:\",variable)"
      ]
    },
    {
      "cell_type": "markdown",
      "source": [
        "#Se utiliza (\"\\n\") para salto de linea"
      ],
      "metadata": {
        "id": "d5PxOo1thFvb"
      }
    },
    {
      "cell_type": "code",
      "source": [
        "nom = input(\"Me puedes dar tu nombre?\")\n",
        "ape = input(\"Me puedes dar tu apellido?\")\n",
        "print(\"Gracias\")\n",
        "print(\"\\nEste es tu nombre:\"+nom+\" \"+ape+\".\")"
      ],
      "metadata": {
        "id": "xrlOjrTUc1_9"
      },
      "execution_count": null,
      "outputs": []
    },
    {
      "cell_type": "markdown",
      "source": [
        "#Si no declaramos que tipo de variable es antes del input se imprimira 5 veces \"Z\""
      ],
      "metadata": {
        "id": "rHsXU2zCg6V1"
      }
    },
    {
      "cell_type": "code",
      "source": [
        "x = input(\"Dame un numero para multiplicar\")\n",
        "z = x * 5+\n",
        "print(z)"
      ],
      "metadata": {
        "id": "eNeYreFRe-WO"
      },
      "execution_count": null,
      "outputs": []
    },
    {
      "cell_type": "markdown",
      "source": [
        "#Se ocupa declarar con int(Entero) para poder multiplicar un numero"
      ],
      "metadata": {
        "id": "LuVa8-hAguBV"
      }
    },
    {
      "cell_type": "code",
      "source": [
        "x = int(input(\"Dame un numero para multiplicar\"))\n",
        "z = x * 5\n",
        "print(z)"
      ],
      "metadata": {
        "id": "gUUGceDbfSzt"
      },
      "execution_count": null,
      "outputs": []
    },
    {
      "cell_type": "markdown",
      "source": [
        "#Cuando se usan doble asteriscos (**) es para elevar al cuadrado\n",
        "#tipo float es para que el resultado salga en decimal"
      ],
      "metadata": {
        "id": "g1lKF_4cgRSx"
      }
    },
    {
      "cell_type": "code",
      "source": [
        "cateto_a = float(input(\"Inserta la longitud del primer cateto:\"))\n",
        "cateto_b = float(input(\"Inserta la longitud del primer cateto:\"))\n",
        "hipo = (cateto_a**2 + cateto_b**2)**.5\n",
        "print(\"La longitud de la hipotenusa es: \",hipo)"
      ],
      "metadata": {
        "id": "S-TJp8O_fw-j"
      },
      "execution_count": null,
      "outputs": []
    },
    {
      "cell_type": "markdown",
      "source": [
        "No borrar sangria del if, si no saldra error"
      ],
      "metadata": {
        "id": "8Q4hFjgAkDhx"
      }
    },
    {
      "cell_type": "code",
      "source": [
        "a = 3500\n",
        "b = 12500\n",
        "if b > a:\n",
        "  print(\"b es mayor que a\")\n",
        "else:\n",
        "  print(\"a es mayor que b\")\n",
        "print (\"Fin del if\")"
      ],
      "metadata": {
        "id": "zhBlRiZijqgy"
      },
      "execution_count": null,
      "outputs": []
    }
  ]
}