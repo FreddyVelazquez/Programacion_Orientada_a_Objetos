{
  "nbformat": 4,
  "nbformat_minor": 0,
  "metadata": {
    "colab": {
      "provenance": [],
      "authorship_tag": "ABX9TyOIvCTvZ5JRUrJ2Q4Z4UUPx",
      "include_colab_link": true
    },
    "kernelspec": {
      "name": "python3",
      "display_name": "Python 3"
    },
    "language_info": {
      "name": "python"
    }
  },
  "cells": [
    {
      "cell_type": "markdown",
      "metadata": {
        "id": "view-in-github",
        "colab_type": "text"
      },
      "source": [
        "<a href=\"https://colab.research.google.com/github/FreddyVelazquez/Programacion_Orientada_a_Objetos/blob/main/Unidad1/Programa2.ipynb\" target=\"_parent\"><img src=\"https://colab.research.google.com/assets/colab-badge.svg\" alt=\"Open In Colab\"/></a>"
      ]
    },
    {
      "cell_type": "code",
      "execution_count": null,
      "metadata": {
        "id": "M9nAo3I2a7Im"
      },
      "outputs": [],
      "source": [
        "variable = input(\"Escribe tu Nombre:\")\n",
        "print(\"Tu nombre es:\",variable)"
      ]
    },
    {
      "cell_type": "markdown",
      "source": [
        "#Se utiliza (\"\\n\") para salto de linea"
      ],
      "metadata": {
        "id": "d5PxOo1thFvb"
      }
    },
    {
      "cell_type": "code",
      "source": [
        "nom = input(\"Me puedes dar tu nombre?\")\n",
        "ape = input(\"Me puedes dar tu apellido?\")\n",
        "print(\"Gracias\")\n",
        "print(\"\\nEste es tu nombre:\"+nom+\" \"+ape+\".\")"
      ],
      "metadata": {
        "id": "xrlOjrTUc1_9"
      },
      "execution_count": null,
      "outputs": []
    },
    {
      "cell_type": "markdown",
      "source": [
        "#Si no declaramos que tipo de variable es antes del input se imprimira 5 veces \"Z\""
      ],
      "metadata": {
        "id": "rHsXU2zCg6V1"
      }
    },
    {
      "cell_type": "code",
      "source": [
        "x = input(\"Dame un numero para multiplicar\")\n",
        "z = x * 5+\n",
        "print(z)"
      ],
      "metadata": {
        "id": "eNeYreFRe-WO"
      },
      "execution_count": null,
      "outputs": []
    },
    {
      "cell_type": "markdown",
      "source": [
        "#Se ocupa declarar con int(Entero) para poder multiplicar un numero"
      ],
      "metadata": {
        "id": "LuVa8-hAguBV"
      }
    },
    {
      "cell_type": "code",
      "source": [
        "x = int(input(\"Dame un numero para multiplicar\"))\n",
        "z = x * 5\n",
        "print(z)"
      ],
      "metadata": {
        "id": "gUUGceDbfSzt"
      },
      "execution_count": null,
      "outputs": []
    },
    {
      "cell_type": "markdown",
      "source": [
        "#Cuando se usan doble asteriscos (**) es para elevar al cuadrado\n",
        "#tipo float es para que el resultado salga en decimal"
      ],
      "metadata": {
        "id": "g1lKF_4cgRSx"
      }
    },
    {
      "cell_type": "code",
      "source": [
        "cateto_a = float(input(\"Inserta la longitud del primer cateto:\"))\n",
        "cateto_b = float(input(\"Inserta la longitud del primer cateto:\"))\n",
        "hipo = (cateto_a**2 + cateto_b**2)**.5\n",
        "print(\"La longitud de la hipotenusa es: \",hipo)"
      ],
      "metadata": {
        "id": "S-TJp8O_fw-j"
      },
      "execution_count": null,
      "outputs": []
    },
    {
      "cell_type": "markdown",
      "source": [
        "No borrar sangria del if, si no saldra error"
      ],
      "metadata": {
        "id": "8Q4hFjgAkDhx"
      }
    },
    {
      "cell_type": "code",
      "source": [
        "a = 3500\n",
        "b = 12500\n",
        "if b > a:\n",
        "  print(\"b es mayor que a\")\n",
        "else:\n",
        "  print(\"a es mayor que b\")\n",
        "print (\"Fin del if\")"
      ],
      "metadata": {
        "id": "zhBlRiZijqgy"
      },
      "execution_count": null,
      "outputs": []
    },
    {
      "cell_type": "code",
      "source": [
        "#elif else\n",
        "a = 3000\n",
        "b = 3000\n",
        "if b > a:\n",
        "  print(\"b es mayor que a\")\n",
        "  print(\"b vale =>\", b)\n",
        "elif a==b:\n",
        "  print(\"a es igual que b\")\n",
        "  print(\"a y b vale =>\", a)\n",
        "else:\n",
        "  print(\"a es mayor que b\")\n",
        "  print(\"a vale =>\", a)\n",
        "print (\"Fin del if\")\n",
        "\n"
      ],
      "metadata": {
        "id": "XqlqgvK6m4Ak"
      },
      "execution_count": null,
      "outputs": []
    },
    {
      "cell_type": "code",
      "source": [
        "#if y if... else en version corta o simplificada\n",
        "#del lado izquierdo es cuando es verdadera la condicion\n",
        "x = 50\n",
        "y = 60\n",
        "print(\"x es mayor que y\") if x > y else print(\"y es mayor que x\")"
      ],
      "metadata": {
        "colab": {
          "base_uri": "https://localhost:8080/"
        },
        "id": "Y0UrpYYyoViR",
        "outputId": "cb02c5c9-71c8-4c94-a6f6-64305ef38bbb"
      },
      "execution_count": 6,
      "outputs": [
        {
          "output_type": "stream",
          "name": "stdout",
          "text": [
            "y es mayor que x\n"
          ]
        }
      ]
    },
    {
      "cell_type": "markdown",
      "source": [
        "#CICLOS\n"
      ],
      "metadata": {
        "id": "SDSi5_GNo9hD"
      }
    },
    {
      "cell_type": "code",
      "source": [
        "i = 1\n",
        "while i <= 10:\n",
        "  print(i)\n",
        "  i += 1\n",
        "print(\"Fuera del Ciclo While\")"
      ],
      "metadata": {
        "colab": {
          "base_uri": "https://localhost:8080/"
        },
        "id": "59GaMtUmpF1a",
        "outputId": "68302c86-0775-45e0-8122-73161faf81a6"
      },
      "execution_count": 9,
      "outputs": [
        {
          "output_type": "stream",
          "name": "stdout",
          "text": [
            "1\n",
            "2\n",
            "3\n",
            "4\n",
            "5\n",
            "6\n",
            "7\n",
            "8\n",
            "9\n",
            "10\n",
            "Fuera del Ciclo While\n"
          ]
        }
      ]
    },
    {
      "cell_type": "markdown",
      "source": [
        "#BREAK"
      ],
      "metadata": {
        "id": "5giO6fMRqSt1"
      }
    },
    {
      "cell_type": "code",
      "source": [
        "i =1\n",
        "while i <=1000:\n",
        "  print(i)\n",
        "  if i == 10:\n",
        "      print(\"Entro al if\")\n",
        "      break\n",
        "  i += 1\n",
        "print(\"Fuera del While\")"
      ],
      "metadata": {
        "colab": {
          "base_uri": "https://localhost:8080/"
        },
        "id": "oRTfK2DUqARm",
        "outputId": "593e69b6-9375-437e-926a-d4ee6de848a1"
      },
      "execution_count": 11,
      "outputs": [
        {
          "output_type": "stream",
          "name": "stdout",
          "text": [
            "1\n",
            "2\n",
            "3\n",
            "4\n",
            "5\n",
            "6\n",
            "7\n",
            "8\n",
            "9\n",
            "10\n",
            "Entro al if\n",
            "Fuera del While\n"
          ]
        }
      ]
    },
    {
      "cell_type": "markdown",
      "source": [
        "#WHILE TRUE"
      ],
      "metadata": {
        "id": "xP1RLWxJrQCd"
      }
    },
    {
      "cell_type": "code",
      "source": [
        "while(True):\n",
        "  print(\"\"\"Selecciona una opcion\n",
        "  1)Opcion 1\n",
        "  2)Opcion 2\n",
        "  3)Opcion 3\"\"\")\n",
        "  opcion = input(\"¿Que opcion deseas?\")\n",
        "  if opcion == \"1\":\n",
        "    print(\"Seleccionaste la Opcion 1\\n\")\n",
        "  elif opcion == \"2\":\n",
        "    print(\"Seleccionaste la Opcion 2\\n\")\n",
        "  elif opcion == \"3\":\n",
        "    print(\"Seleccionaste la Opcion Salir\\n\")\n",
        "    break\n",
        "  else:\n",
        "    print(\"Opcion desconocida, vuelva a intentarlo\")\n",
        "print(\"Fuera del ciclo\")\n"
      ],
      "metadata": {
        "colab": {
          "base_uri": "https://localhost:8080/"
        },
        "id": "6xWoF0HxrPyJ",
        "outputId": "c5e17098-c56a-46d4-fde3-bb7ca39966ee"
      },
      "execution_count": 14,
      "outputs": [
        {
          "output_type": "stream",
          "name": "stdout",
          "text": [
            "Selecciona una opcion\n",
            "  1)Opcion 1\n",
            "  2)Opcion 2\n",
            "  3)Opcion 3\n",
            "¿Que opcion deseas?6\n",
            "Opcion desconocida, vuelva a intentarlo\n",
            "Selecciona una opcion\n",
            "  1)Opcion 1\n",
            "  2)Opcion 2\n",
            "  3)Opcion 3\n",
            "¿Que opcion deseas?3\n",
            "Seleccionaste la Opcion Salir\n",
            "\n",
            "Fuera del ciclo\n"
          ]
        }
      ]
    }
  ]
}