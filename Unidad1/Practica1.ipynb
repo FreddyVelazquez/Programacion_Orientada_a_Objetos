{
  "nbformat": 4,
  "nbformat_minor": 0,
  "metadata": {
    "colab": {
      "provenance": [],
      "authorship_tag": "ABX9TyOAMZhU52C/v3EjUG8b7kEy",
      "include_colab_link": true
    },
    "kernelspec": {
      "name": "python3",
      "display_name": "Python 3"
    },
    "language_info": {
      "name": "python"
    }
  },
  "cells": [
    {
      "cell_type": "markdown",
      "metadata": {
        "id": "view-in-github",
        "colab_type": "text"
      },
      "source": [
        "<a href=\"https://colab.research.google.com/github/FreddyVelazquez/Programacion_Orientada_a_Objetos/blob/main/Unidad1/Practica1.ipynb\" target=\"_parent\"><img src=\"https://colab.research.google.com/assets/colab-badge.svg\" alt=\"Open In Colab\"/></a>"
      ]
    },
    {
      "cell_type": "markdown",
      "source": [
        "![image](https://github.com/Jose-Gabriel-Rodriguez/Probabilidad/blob/main/Cintilla2025.png?raw=true)\n",
        "# **PROGRAMACION ORIENTA A OBJETOS**\n",
        "\n",
        "##GRUPO 2YB\n",
        "\n",
        "##UNIDAD 1\n",
        "\n",
        "Docente: Jose Gabriel Rodriguez Rivas\n",
        "\n",
        "Alumno: Freddy Mariano Velazquez Cerros\n",
        "\n",
        "### **Practica 1.Introduccion**\n"
      ],
      "metadata": {
        "id": "jxOb5q-Xj0Sx"
      }
    },
    {
      "cell_type": "code",
      "source": [
        "#declarar variables\n",
        "#python no hay nesesidad de declarar el tipo de variable\n",
        "#Cuando se le asigna el valor, automaticamente python ya sabe de que tipo es\n",
        "#Python es case Sensitive es decir que es sencible a las mayusculas a la hora de declarar variables\n",
        "x=5\n",
        "msg=\"Hola Mundo\"\n",
        "print(x, msg)"
      ],
      "metadata": {
        "colab": {
          "base_uri": "https://localhost:8080/"
        },
        "id": "Rt6pmlUZ6Hh9",
        "outputId": "5d88a3ef-c80a-4ba9-9893-68b6a9177dd1"
      },
      "execution_count": 1,
      "outputs": [
        {
          "output_type": "stream",
          "name": "stdout",
          "text": [
            "5 Hola Mundo\n"
          ]
        }
      ]
    },
    {
      "cell_type": "code",
      "execution_count": 2,
      "metadata": {
        "id": "M9nAo3I2a7Im",
        "colab": {
          "base_uri": "https://localhost:8080/"
        },
        "outputId": "39925df7-6883-4cb9-a081-15c3c7d43bd9"
      },
      "outputs": [
        {
          "output_type": "stream",
          "name": "stdout",
          "text": [
            "Escribe tu Nombre:freddy\n",
            "Tu nombre es: freddy\n"
          ]
        }
      ],
      "source": [
        "variable = input(\"Escribe tu Nombre:\")\n",
        "print(\"Tu nombre es:\",variable)"
      ]
    },
    {
      "cell_type": "markdown",
      "source": [
        "#Se utiliza (\"\\n\") para salto de linea"
      ],
      "metadata": {
        "id": "d5PxOo1thFvb"
      }
    },
    {
      "cell_type": "code",
      "source": [
        "nom = input(\"Me puedes dar tu nombre?\")\n",
        "ape = input(\"Me puedes dar tu apellido?\")\n",
        "print(\"Gracias\")\n",
        "print(\"\\nEste es tu nombre:\"+nom+\" \"+ape+\".\")"
      ],
      "metadata": {
        "id": "xrlOjrTUc1_9",
        "colab": {
          "base_uri": "https://localhost:8080/"
        },
        "outputId": "3a2c29ff-fccf-42d5-e15c-fdcf8264d977"
      },
      "execution_count": 3,
      "outputs": [
        {
          "output_type": "stream",
          "name": "stdout",
          "text": [
            "Me puedes dar tu nombre?freddt\n",
            "Me puedes dar tu apellido?ferre\n",
            "Gracias\n",
            "\n",
            "Este es tu nombre:freddt ferre.\n"
          ]
        }
      ]
    },
    {
      "cell_type": "markdown",
      "source": [
        "#Si no declaramos que tipo de variable es antes del input se imprimira 5 veces \"Z\""
      ],
      "metadata": {
        "id": "rHsXU2zCg6V1"
      }
    },
    {
      "cell_type": "code",
      "source": [
        "x = input(\"Dame un numero para multiplicar\")\n",
        "z = x * 5\n",
        "print(z)"
      ],
      "metadata": {
        "id": "eNeYreFRe-WO",
        "colab": {
          "base_uri": "https://localhost:8080/"
        },
        "outputId": "b73e7317-7cb9-4fa8-d583-1aec0503bcc8"
      },
      "execution_count": 5,
      "outputs": [
        {
          "output_type": "stream",
          "name": "stdout",
          "text": [
            "Dame un numero para multiplicar4\n",
            "44444\n"
          ]
        }
      ]
    },
    {
      "cell_type": "markdown",
      "source": [
        "#Se ocupa declarar con int(Entero) para poder multiplicar un numero"
      ],
      "metadata": {
        "id": "LuVa8-hAguBV"
      }
    },
    {
      "cell_type": "code",
      "source": [
        "x = int(input(\"Dame un numero para multiplicar\"))\n",
        "z = x * 5\n",
        "print(z)"
      ],
      "metadata": {
        "id": "gUUGceDbfSzt"
      },
      "execution_count": null,
      "outputs": []
    },
    {
      "cell_type": "markdown",
      "source": [
        "#Cuando se usan doble asteriscos (**) es para elevar al cuadrado\n",
        "#tipo float es para que el resultado salga en decimal"
      ],
      "metadata": {
        "id": "g1lKF_4cgRSx"
      }
    },
    {
      "cell_type": "code",
      "source": [
        "cateto_a = float(input(\"Inserta la longitud del primer cateto:\"))\n",
        "cateto_b = float(input(\"Inserta la longitud del primer cateto:\"))\n",
        "hipo = (cateto_a**2 + cateto_b**2)**.5\n",
        "print(\"La longitud de la hipotenusa es: \",hipo)"
      ],
      "metadata": {
        "id": "S-TJp8O_fw-j",
        "colab": {
          "base_uri": "https://localhost:8080/"
        },
        "outputId": "233e8fae-edcd-40d3-b37b-ecf9e798c551"
      },
      "execution_count": 6,
      "outputs": [
        {
          "output_type": "stream",
          "name": "stdout",
          "text": [
            "Inserta la longitud del primer cateto:4\n",
            "Inserta la longitud del primer cateto:4\n",
            "La longitud de la hipotenusa es:  5.656854249492381\n"
          ]
        }
      ]
    },
    {
      "cell_type": "markdown",
      "source": [
        "No borrar sangria del if, si no saldra error"
      ],
      "metadata": {
        "id": "8Q4hFjgAkDhx"
      }
    },
    {
      "cell_type": "code",
      "source": [
        "a = 3500\n",
        "b = 12500\n",
        "if b > a:\n",
        "  print(\"b es mayor que a\")\n",
        "else:\n",
        "  print(\"a es mayor que b\")\n",
        "print (\"Fin del if\")"
      ],
      "metadata": {
        "id": "zhBlRiZijqgy",
        "colab": {
          "base_uri": "https://localhost:8080/"
        },
        "outputId": "b88b4f5c-44b4-45b3-b9e0-1edf8e6dc475"
      },
      "execution_count": 7,
      "outputs": [
        {
          "output_type": "stream",
          "name": "stdout",
          "text": [
            "b es mayor que a\n",
            "Fin del if\n"
          ]
        }
      ]
    },
    {
      "cell_type": "code",
      "source": [
        "#elif else\n",
        "a = 3000\n",
        "b = 3000\n",
        "if b > a:\n",
        "  print(\"b es mayor que a\")\n",
        "  print(\"b vale =>\", b)\n",
        "elif a==b:\n",
        "  print(\"a es igual que b\")\n",
        "  print(\"a y b vale =>\", a)\n",
        "else:\n",
        "  print(\"a es mayor que b\")\n",
        "  print(\"a vale =>\", a)\n",
        "print (\"Fin del if\")\n",
        "\n"
      ],
      "metadata": {
        "id": "XqlqgvK6m4Ak",
        "colab": {
          "base_uri": "https://localhost:8080/"
        },
        "outputId": "3afa7257-19f4-4914-c77e-db64220fa3fe"
      },
      "execution_count": 8,
      "outputs": [
        {
          "output_type": "stream",
          "name": "stdout",
          "text": [
            "a es igual que b\n",
            "a y b vale => 3000\n",
            "Fin del if\n"
          ]
        }
      ]
    },
    {
      "cell_type": "code",
      "source": [
        "#if y if... else en version corta o simplificada\n",
        "#del lado izquierdo es cuando es verdadera la condicion\n",
        "x = 50\n",
        "y = 60\n",
        "print(\"x es mayor que y\") if x > y else print(\"y es mayor que x\")"
      ],
      "metadata": {
        "id": "Y0UrpYYyoViR"
      },
      "execution_count": null,
      "outputs": []
    },
    {
      "cell_type": "markdown",
      "source": [
        "#CICLOS\n"
      ],
      "metadata": {
        "id": "SDSi5_GNo9hD"
      }
    },
    {
      "cell_type": "markdown",
      "source": [
        "Ciclos for"
      ],
      "metadata": {
        "id": "JvG0jj4N5VMM"
      }
    },
    {
      "cell_type": "code",
      "source": [
        "for x in range(5):\n",
        "  print(x)"
      ],
      "metadata": {
        "colab": {
          "base_uri": "https://localhost:8080/"
        },
        "id": "9dFXNx8s5S2v",
        "outputId": "c6494a0b-d9bc-430d-e8be-45b84fff0e89"
      },
      "execution_count": 9,
      "outputs": [
        {
          "output_type": "stream",
          "name": "stdout",
          "text": [
            "0\n",
            "1\n",
            "2\n",
            "3\n",
            "4\n"
          ]
        }
      ]
    },
    {
      "cell_type": "code",
      "source": [
        "for z in range (2,5):\n",
        " print(z)"
      ],
      "metadata": {
        "colab": {
          "base_uri": "https://localhost:8080/"
        },
        "id": "mM7ZPl9t5Sz3",
        "outputId": "e684c86c-11f4-49b0-a4b1-290dd710aa7a"
      },
      "execution_count": 10,
      "outputs": [
        {
          "output_type": "stream",
          "name": "stdout",
          "text": [
            "2\n",
            "3\n",
            "4\n"
          ]
        }
      ]
    },
    {
      "cell_type": "code",
      "source": [
        "print(\"La instruccion break\")\n",
        "variablez = True #Variable tipo booleana\n",
        "for i in range (1,6):\n",
        "  print(\"Esto es un print dentro del for\")\n",
        "  if variablez:\n",
        "    print(\"Entro al If\")\n",
        "    break\n",
        "print(\"Fuera del For\")\n",
        "\n",
        "\n",
        "#continuacion ejemplo\n",
        "print(\"\\nLa Instruccion continua:\")\n",
        "for i in range ( 1,6):\n",
        "  if i == 3:\n",
        "    continue\n",
        "  print(\"Dentro del bucle.\", i)\n",
        "print(\"Fuera del bucle\")"
      ],
      "metadata": {
        "colab": {
          "base_uri": "https://localhost:8080/"
        },
        "id": "bPwNYIa15Swv",
        "outputId": "36023d3b-d027-420f-a5c5-3fde2859c7ab"
      },
      "execution_count": 11,
      "outputs": [
        {
          "output_type": "stream",
          "name": "stdout",
          "text": [
            "La instruccion break\n",
            "Esto es un print dentro del for\n",
            "Entro al If\n",
            "Fuera del For\n",
            "\n",
            "La Instruccion continua:\n",
            "Dentro del bucle. 1\n",
            "Dentro del bucle. 2\n",
            "Dentro del bucle. 4\n",
            "Dentro del bucle. 5\n",
            "Fuera del bucle\n"
          ]
        }
      ]
    },
    {
      "cell_type": "code",
      "source": [
        "frutas = [\"Platano\",\"Naranja\",\"manzana\"]\n",
        "for x in frutas:\n",
        "  print(x)\n",
        "  if x == \"Naranja\":\n",
        "    break"
      ],
      "metadata": {
        "colab": {
          "base_uri": "https://localhost:8080/"
        },
        "id": "DJjdOOpY5StS",
        "outputId": "e2e81419-ae8f-49a8-bf37-9733108d3db0"
      },
      "execution_count": 12,
      "outputs": [
        {
          "output_type": "stream",
          "name": "stdout",
          "text": [
            "Platano\n",
            "Naranja\n"
          ]
        }
      ]
    },
    {
      "cell_type": "code",
      "source": [
        "n = 0\n",
        "while n !=3:\n",
        "  print(n)\n",
        "  n += 1\n",
        "else:\n",
        "  print(n, \"else\")\n",
        "print()#Para generar una linea en blanco\n",
        "for i in range (0,3):\n",
        "  print(i)\n",
        "else:\n",
        "  print(i, \"else\")"
      ],
      "metadata": {
        "colab": {
          "base_uri": "https://localhost:8080/"
        },
        "id": "jMuaOCP65Spm",
        "outputId": "707fb6b1-6903-4ca1-c440-8292e1a59973"
      },
      "execution_count": 13,
      "outputs": [
        {
          "output_type": "stream",
          "name": "stdout",
          "text": [
            "0\n",
            "1\n",
            "2\n",
            "3 else\n",
            "\n",
            "0\n",
            "1\n",
            "2\n",
            "2 else\n"
          ]
        }
      ]
    },
    {
      "cell_type": "markdown",
      "source": [
        "#FUNCIONES"
      ],
      "metadata": {
        "id": "u4YzGr0f5iEk"
      }
    },
    {
      "cell_type": "code",
      "source": [
        "def funcion_saludar():\n",
        "  print(\"Hola Mundo, desde mi primera funcion\")"
      ],
      "metadata": {
        "id": "32fv3vGo5SnQ"
      },
      "execution_count": 14,
      "outputs": []
    },
    {
      "cell_type": "code",
      "source": [
        "funcion_saludar()"
      ],
      "metadata": {
        "colab": {
          "base_uri": "https://localhost:8080/"
        },
        "id": "aQsTlh1d5Ska",
        "outputId": "605540d3-60d2-4976-8469-680d771c8890"
      },
      "execution_count": 15,
      "outputs": [
        {
          "output_type": "stream",
          "name": "stdout",
          "text": [
            "Hola Mundo, desde mi primera funcion\n"
          ]
        }
      ]
    },
    {
      "cell_type": "markdown",
      "source": [
        "#Parametros Funciones\n"
      ],
      "metadata": {
        "id": "rqV6kqgp5p2k"
      }
    },
    {
      "cell_type": "code",
      "source": [
        "Tablas de Multiplicar"
      ],
      "metadata": {
        "colab": {
          "base_uri": "https://localhost:8080/",
          "height": 106
        },
        "id": "oJ-Id7gT5wUz",
        "outputId": "0ea312bb-ad6d-471e-a673-ca681860880f"
      },
      "execution_count": 16,
      "outputs": [
        {
          "output_type": "error",
          "ename": "SyntaxError",
          "evalue": "invalid syntax (ipython-input-2963882995.py, line 1)",
          "traceback": [
            "\u001b[0;36m  File \u001b[0;32m\"/tmp/ipython-input-2963882995.py\"\u001b[0;36m, line \u001b[0;32m1\u001b[0m\n\u001b[0;31m    Tablas de Multiplicar\u001b[0m\n\u001b[0m           ^\u001b[0m\n\u001b[0;31mSyntaxError\u001b[0m\u001b[0;31m:\u001b[0m invalid syntax\n"
          ]
        }
      ]
    },
    {
      "cell_type": "code",
      "source": [
        "def tablas_multiplicar(x):\n",
        "  for z in range (1,11):\n",
        "    print(x, \"x\", z, \"=\", x * z)\n",
        "  print(\"\\nFin de la Funcion\")"
      ],
      "metadata": {
        "id": "IyH0KT3Q5SiE"
      },
      "execution_count": 17,
      "outputs": []
    },
    {
      "cell_type": "code",
      "source": [
        "i = 1\n",
        "while i <= 10:\n",
        "  print(i)\n",
        "  i += 1\n",
        "print(\"Fuera del Ciclo While\")"
      ],
      "metadata": {
        "colab": {
          "base_uri": "https://localhost:8080/"
        },
        "id": "59GaMtUmpF1a",
        "outputId": "a41f5a9e-127b-4a47-da02-8fd8a6ea943f"
      },
      "execution_count": 18,
      "outputs": [
        {
          "output_type": "stream",
          "name": "stdout",
          "text": [
            "1\n",
            "2\n",
            "3\n",
            "4\n",
            "5\n",
            "6\n",
            "7\n",
            "8\n",
            "9\n",
            "10\n",
            "Fuera del Ciclo While\n"
          ]
        }
      ]
    },
    {
      "cell_type": "markdown",
      "source": [
        "#BREAK"
      ],
      "metadata": {
        "id": "5giO6fMRqSt1"
      }
    },
    {
      "cell_type": "code",
      "source": [
        "i =1\n",
        "while i <=1000:\n",
        "  print(i)\n",
        "  if i == 10:\n",
        "      print(\"Entro al if\")\n",
        "      break\n",
        "  i += 1\n",
        "print(\"Fuera del While\")"
      ],
      "metadata": {
        "colab": {
          "base_uri": "https://localhost:8080/"
        },
        "id": "oRTfK2DUqARm",
        "outputId": "36ed430f-608f-4645-dab0-d5945034e1df"
      },
      "execution_count": 19,
      "outputs": [
        {
          "output_type": "stream",
          "name": "stdout",
          "text": [
            "1\n",
            "2\n",
            "3\n",
            "4\n",
            "5\n",
            "6\n",
            "7\n",
            "8\n",
            "9\n",
            "10\n",
            "Entro al if\n",
            "Fuera del While\n"
          ]
        }
      ]
    },
    {
      "cell_type": "markdown",
      "source": [
        "#WHILE TRUE"
      ],
      "metadata": {
        "id": "xP1RLWxJrQCd"
      }
    },
    {
      "cell_type": "code",
      "source": [
        "while(True):\n",
        "  print(\"\"\"Selecciona una opcion\n",
        "  1)Opcion 1\n",
        "  2)Opcion 2\n",
        "  3)Opcion 3\"\"\")\n",
        "  opcion = input(\"¿Que opcion deseas?\")\n",
        "  if opcion == \"1\":\n",
        "    print(\"Seleccionaste la Opcion 1\\n\")\n",
        "  elif opcion == \"2\":\n",
        "    print(\"Seleccionaste la Opcion 2\\n\")\n",
        "  elif opcion == \"3\":\n",
        "    print(\"Seleccionaste la Opcion Salir\\n\")\n",
        "    break\n",
        "  else:\n",
        "    print(\"Opcion desconocida, vuelva a intentarlo\")\n",
        "print(\"Fuera del ciclo\")\n"
      ],
      "metadata": {
        "colab": {
          "base_uri": "https://localhost:8080/"
        },
        "id": "6xWoF0HxrPyJ",
        "outputId": "40caf397-ed3c-4d75-a2ec-0e1eedd4ba7f"
      },
      "execution_count": 20,
      "outputs": [
        {
          "output_type": "stream",
          "name": "stdout",
          "text": [
            "Selecciona una opcion\n",
            "  1)Opcion 1\n",
            "  2)Opcion 2\n",
            "  3)Opcion 3\n",
            "¿Que opcion deseas?4\n",
            "Opcion desconocida, vuelva a intentarlo\n",
            "Selecciona una opcion\n",
            "  1)Opcion 1\n",
            "  2)Opcion 2\n",
            "  3)Opcion 3\n",
            "¿Que opcion deseas?4\n",
            "Opcion desconocida, vuelva a intentarlo\n",
            "Selecciona una opcion\n",
            "  1)Opcion 1\n",
            "  2)Opcion 2\n",
            "  3)Opcion 3\n",
            "¿Que opcion deseas?4\n",
            "Opcion desconocida, vuelva a intentarlo\n",
            "Selecciona una opcion\n",
            "  1)Opcion 1\n",
            "  2)Opcion 2\n",
            "  3)Opcion 3\n",
            "¿Que opcion deseas?4\n",
            "Opcion desconocida, vuelva a intentarlo\n",
            "Selecciona una opcion\n",
            "  1)Opcion 1\n",
            "  2)Opcion 2\n",
            "  3)Opcion 3\n",
            "¿Que opcion deseas?4\n",
            "Opcion desconocida, vuelva a intentarlo\n",
            "Selecciona una opcion\n",
            "  1)Opcion 1\n",
            "  2)Opcion 2\n",
            "  3)Opcion 3\n",
            "¿Que opcion deseas?4\n",
            "Opcion desconocida, vuelva a intentarlo\n",
            "Selecciona una opcion\n",
            "  1)Opcion 1\n",
            "  2)Opcion 2\n",
            "  3)Opcion 3\n",
            "¿Que opcion deseas?3\n",
            "Seleccionaste la Opcion Salir\n",
            "\n",
            "Fuera del ciclo\n"
          ]
        }
      ]
    }
  ]
}