{
  "nbformat": 4,
  "nbformat_minor": 0,
  "metadata": {
    "colab": {
      "provenance": [],
      "include_colab_link": true
    },
    "kernelspec": {
      "name": "python3",
      "display_name": "Python 3"
    },
    "language_info": {
      "name": "python"
    }
  },
  "cells": [
    {
      "cell_type": "markdown",
      "metadata": {
        "id": "view-in-github",
        "colab_type": "text"
      },
      "source": [
        "<a href=\"https://colab.research.google.com/github/FreddyVelazquez/Programacion_Orientada_a_Objetos/blob/main/Unidad1/Practica1.ipynb\" target=\"_parent\"><img src=\"https://colab.research.google.com/assets/colab-badge.svg\" alt=\"Open In Colab\"/></a>"
      ]
    },
    {
      "cell_type": "markdown",
      "source": [
        "![image](https://github.com/JoseGabriel-ITD/Probabilidad-y-Estadistica/blob/main/Cintilla2004.png?raw=true)\n",
        "\n",
        "# **Programacion Orientada a Objetos**\n",
        "\n",
        "## Unidad 1\n",
        "\n",
        "### Practica 1: Sistema de Librerias (Clases)\n",
        "\n",
        "### Facilitador: *Dr. José Gabriel Rodríguez Rivas*\n",
        "\n",
        "### Alumno: Freddy Mariano Velazquez Cerros\n"
      ],
      "metadata": {
        "id": "cfF9auNA2Ym8"
      }
    },
    {
      "cell_type": "code",
      "source": [
        "from datetime import date"
      ],
      "metadata": {
        "id": "Thk0rgjmyKnD"
      },
      "execution_count": 3,
      "outputs": []
    },
    {
      "cell_type": "code",
      "execution_count": 4,
      "metadata": {
        "id": "cefjtEejgPaA"
      },
      "outputs": [],
      "source": [
        "class Libro:\n",
        "  def __init__(self, titulo, autor, isbn,  precio):  # Constructor de la clase\n",
        "    self.titulo = titulo\n",
        "    self.autor = autor\n",
        "    self.isbn = isbn\n",
        "    self.precio = precio\n",
        "\n",
        "  def mostrar_info(self):       # Metodo\n",
        "    return f\" Titulo: {self.titulo}, por {self.autor}, - ISBN: {self.isbn}, Precio: ${self.precio}\"\n",
        "\n",
        "  def __str__(self):  # Este método se llama cuando usas print(libro)\n",
        "        return f\"{self.titulo} por {self.autor}\""
      ]
    },
    {
      "cell_type": "code",
      "source": [
        "class Persona:\n",
        "  def __init__(self, nombre):\n",
        "        self.nombre = nombre"
      ],
      "metadata": {
        "id": "GiJAEWgkyPfU"
      },
      "execution_count": 5,
      "outputs": []
    },
    {
      "cell_type": "code",
      "source": [
        "class Cliente:\n",
        "  def __init__(self, nombre, email):\n",
        "    self.nombre = nombre\n",
        "    self.email = email\n",
        "    self.historial_compras = []\n",
        "  def comprar_libro(self, libro):\n",
        "    self.historial_compras.append(libro)\n",
        "    return f\"Libro {libro.titulo} comprado por {self.nombre}\"\n",
        "  def consultar_historial(self):\n",
        "     if not self.historial_compras:\n",
        "         return f\"{self.nombre} no tiene libros comprados aún.\"\n",
        "  def __str__(self):  # Este método se llama cuando usas print(cliente)\n",
        "        return f\"{self.nombre} ({self.email})\""
      ],
      "metadata": {
        "id": "WWSid-LurQXt"
      },
      "execution_count": 6,
      "outputs": []
    },
    {
      "cell_type": "code",
      "source": [
        "class Trabajador(Persona):\n",
        "  def __init__(self, nombre, puesto):\n",
        "        super().__init__(nombre)\n",
        "        self.puesto = puesto\n",
        "  def registrar_venta(self, cliente, libros):\n",
        "        venta = Venta(cliente, libros)\n",
        "        venta.calcular_total()\n",
        "        print(f\"Venta registrada por {self.nombre} ({self.puesto})\")\n",
        "        return venta\n",
        "  def gestionar_inventarios(self):\n",
        "        return f\"{self.nombre} está gestionando el inventario.\""
      ],
      "metadata": {
        "id": "Nu6Vabs7yrhl"
      },
      "execution_count": 7,
      "outputs": []
    },
    {
      "cell_type": "code",
      "source": [
        "class Venta:\n",
        "  def __init__(self, cliente, libros):\n",
        "        self.cliente = cliente\n",
        "        self.libros = libros\n",
        "        self.total = 0.0\n",
        "        self.fecha = date.today()\n",
        "  def calcular_total(self):\n",
        "        self.total = sum(libro.precio for libro in self.libros)\n",
        "        return self.total\n",
        "  def generar_ticket(self):\n",
        "        detalles = \"\\n\".join([f\"- {libro.titulo}: ${libro.precio:.2f}\" for libro in self.libros])\n",
        "        return (\n",
        "            f\"Ticket de venta - {self.fecha}\\n\"\n",
        "            f\"Cliente: {self.cliente.nombre} ({self.cliente.email})\\n\"\n",
        "            f\"Libros:\\n{detalles}\\n\"\n",
        "            f\"Total: ${self.total:.2f}\")"
      ],
      "metadata": {
        "id": "eFIVtVKqy7k3"
      },
      "execution_count": 8,
      "outputs": []
    },
    {
      "cell_type": "code",
      "source": [
        "class Prestamo:\n",
        "  def __init__(self, libro, cliente, fecha_inicio,  fecha_devolucion):\n",
        "    self.libro = libro\n",
        "    self.cliente = cliente\n",
        "    self.fecha_inicio = fecha_inicio\n",
        "    self.fecha_devolucion = fecha_devolucion\n",
        "    self.dias_extra = 0\n",
        "  def verificar_estado(self):\n",
        "    return f\" Libro: {self.libro}, para {self.cliente}, del {self.fecha_inicio} a {self.fecha_devolucion}\"\n",
        "  def renovar_prestamo(self, libro):\n",
        "    dias_extra = int(input(\"Ingrese los dias extra: \"))\n",
        "    self.dias_extra += dias_extra\n",
        "    return f\" Libro: {self.libro}, para {self.cliente}, del {self.fecha_inicio} a {self.fecha_devolucion},\\n más {self.dias_extra: } dias extra\""
      ],
      "metadata": {
        "id": "F5soQAL3k8XS"
      },
      "execution_count": 14,
      "outputs": []
    },
    {
      "cell_type": "code",
      "source": [
        "libro1 = Libro(\"Harry Potter\", \"Freddy Velazquez\", \"9780307474728\", 350.00)\n",
        "libro2 = Libro(\"Dragon Ball Z\", \"Mariano Cerros\", \"9780451524935\", 220.50)\n",
        "print(libro1.mostrar_info())\n",
        "print(libro2.mostrar_info() )"
      ],
      "metadata": {
        "colab": {
          "base_uri": "https://localhost:8080/"
        },
        "id": "dCiIdXlM2NHk",
        "outputId": "8cef20a0-b5ca-490e-fd27-ced673c0dd66"
      },
      "execution_count": 15,
      "outputs": [
        {
          "output_type": "stream",
          "name": "stdout",
          "text": [
            " Titulo: Harry Potter, por Freddy Velazquez, - ISBN: 9780307474728, Precio: $350.0\n",
            " Titulo: Dragon Ball Z, por Mariano Cerros, - ISBN: 9780451524935, Precio: $220.5\n"
          ]
        }
      ]
    },
    {
      "cell_type": "code",
      "source": [
        "cliente1 = Cliente(\"Mariano\", \"Mariano@example.com\")\n",
        "trabajador1 = Trabajador(\"Freddy Velazquez\", \"Vendedor\")\n",
        "cliente1.comprar_libro(libro1)\n",
        "print(cliente1.consultar_historial())\n",
        "venta1 = trabajador1.registrar_venta(cliente1, [libro1, libro2])\n",
        "print(venta1.generar_ticket())\n",
        "prestamo1 = Prestamo(libro1, cliente1, \"10 de Septiembre del 2025\", \"14 de Septiembre del 2025\")\n",
        "print(prestamo1.verificar_estado())\n",
        "print(trabajador1.gestionar_inventarios())"
      ],
      "metadata": {
        "colab": {
          "base_uri": "https://localhost:8080/"
        },
        "id": "e8BhPQWZsbuL",
        "outputId": "b3627e39-4316-4c60-ce76-4aec3a6c6def"
      },
      "execution_count": 16,
      "outputs": [
        {
          "output_type": "stream",
          "name": "stdout",
          "text": [
            "None\n",
            "Venta registrada por Freddy Velazquez (Vendedor)\n",
            "Ticket de venta - 2025-09-11\n",
            "Cliente: Mariano (Mariano@example.com)\n",
            "Libros:\n",
            "- Harry Potter: $350.00\n",
            "- Dragon Ball Z: $220.50\n",
            "Total: $570.50\n",
            " Libro: Harry Potter por Freddy Velazquez, para Mariano (Mariano@example.com), del 10 de Septiembre del 2025 a 14 de Septiembre del 2025\n",
            "Freddy Velazquez está gestionando el inventario.\n"
          ]
        }
      ]
    }
  ]
}