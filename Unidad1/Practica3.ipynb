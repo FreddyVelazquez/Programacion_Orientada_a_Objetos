{
  "nbformat": 4,
  "nbformat_minor": 0,
  "metadata": {
    "colab": {
      "provenance": [],
      "authorship_tag": "ABX9TyN30U0XZpdAzRh7KWFaRHxN",
      "include_colab_link": true
    },
    "kernelspec": {
      "name": "python3",
      "display_name": "Python 3"
    },
    "language_info": {
      "name": "python"
    }
  },
  "cells": [
    {
      "cell_type": "markdown",
      "metadata": {
        "id": "view-in-github",
        "colab_type": "text"
      },
      "source": [
        "<a href=\"https://colab.research.google.com/github/FreddyVelazquez/Programacion_Orientada_a_Objetos/blob/main/Unidad1/Practica3.ipynb\" target=\"_parent\"><img src=\"https://colab.research.google.com/assets/colab-badge.svg\" alt=\"Open In Colab\"/></a>"
      ]
    },
    {
      "cell_type": "markdown",
      "source": [
        "![image](https://github.com/Jose-Gabriel-Rodriguez/Probabilidad/blob/main/Cintilla2025.png?raw=true)\n",
        "# **PROGRAMACION ORIENTA A OBJETOS**\n",
        "\n",
        "##GRUPO 2YB\n",
        "\n",
        "##UNIDAD 1\n",
        "\n",
        "Docente: Jose Gabriel Rodriguez Rivas\n",
        "\n",
        "Alumno: Freddy Mariano Velazquez Cerros\n",
        "\n",
        "### **Practica 3**\n"
      ],
      "metadata": {
        "id": "FRp1GWW_Bak_"
      }
    },
    {
      "cell_type": "code",
      "execution_count": null,
      "metadata": {
        "id": "7PFcyHwEgeVT"
      },
      "outputs": [],
      "source": [
        "#Definir una clase libro\n",
        "#cada objeyo creado apartir de esta clase\n",
        "#en python, self es una referencia actual (es decir asi mismo).\n",
        "#Se utiliza para acceder a los tributos y metodos de la clase desde demtro de la clase\n",
        "\n",
        "#__init__() es un metodo especial llamado constructot\n",
        "#se ejecuta automaticamente cuando se crea una nueva instancia (objeto) de la clase\n",
        "#Sirve para inicializar los atribytos del objeto con los valores que se le pasen\n",
        "class libro:\n",
        "  def __init__(self,titulo,autor,isbn,precio):#constructor de clase\n",
        "    self.titulo=titulo\n",
        "    self.autor=autor\n",
        "    self.isbn=isbn\n",
        "    self.precio=precio\n",
        "\n",
        "  def mostrar_informacion(self):#metodo\n",
        "    return  f\"{self.titulo} por {self.autor} - ISBN:{ self.isbn}, precio:${self.precio}\"\n"
      ]
    },
    {
      "cell_type": "markdown",
      "source": [],
      "metadata": {
        "id": "s3E5TQNNk5Nx"
      }
    },
    {
      "cell_type": "code",
      "source": [
        "#Crear una instancia concreta de una clase, con datos especificos\n",
        "libro1 = libro(\"Cien Años de Soledad\",\"Gabriel Garcia Marquez\",\"97803074747228\",350)\n",
        "\n",
        "libro2 = libro(\"1984\",\"George Orwell\",\"9780451524935\",220.50)"
      ],
      "metadata": {
        "id": "-YtGfTZykUcK"
      },
      "execution_count": null,
      "outputs": []
    },
    {
      "cell_type": "code",
      "source": [
        "print(libro1.mostrar_informacion())\n",
        "print(libro2.mostrar_informacion())"
      ],
      "metadata": {
        "colab": {
          "base_uri": "https://localhost:8080/"
        },
        "id": "Hkdy401LlFb4",
        "outputId": "4e261b11-99bd-49f2-dad9-02619d495c40"
      },
      "execution_count": null,
      "outputs": [
        {
          "output_type": "stream",
          "name": "stdout",
          "text": [
            "Cien Años de Soledad por Gabriel Garcia Marquez - ISBN:97803074747228, precio:$350\n",
            "1984 por George Orwell - ISBN:9780451524935, precio:$220.5\n"
          ]
        }
      ]
    },
    {
      "cell_type": "markdown",
      "source": [],
      "metadata": {
        "id": "bjwnm0G1kULh"
      }
    }
  ]
}