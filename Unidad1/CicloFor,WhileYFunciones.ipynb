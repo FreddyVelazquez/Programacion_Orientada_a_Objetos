{
  "nbformat": 4,
  "nbformat_minor": 0,
  "metadata": {
    "colab": {
      "provenance": [],
      "authorship_tag": "ABX9TyNdRDrVG+qjDtL0ZQ7iFSfl",
      "include_colab_link": true
    },
    "kernelspec": {
      "name": "python3",
      "display_name": "Python 3"
    },
    "language_info": {
      "name": "python"
    }
  },
  "cells": [
    {
      "cell_type": "markdown",
      "metadata": {
        "id": "view-in-github",
        "colab_type": "text"
      },
      "source": [
        "<a href=\"https://colab.research.google.com/github/FreddyVelazquez/Programacion_Orientada_a_Objetos/blob/main/Unidad1/CicloFor%2CWhileYFunciones.ipynb\" target=\"_parent\"><img src=\"https://colab.research.google.com/assets/colab-badge.svg\" alt=\"Open In Colab\"/></a>"
      ]
    },
    {
      "cell_type": "markdown",
      "source": [
        "#1.8 CICLOS FOR"
      ],
      "metadata": {
        "id": "7_3MrWNmuth6"
      }
    },
    {
      "cell_type": "markdown",
      "source": [
        "Si no se especifica un rango incial por default empieza en cero, cuando se estable el limite o rango final siempre ese valor sera menos 1"
      ],
      "metadata": {
        "id": "dDocEIcBvJCO"
      }
    },
    {
      "cell_type": "code",
      "execution_count": 3,
      "metadata": {
        "colab": {
          "base_uri": "https://localhost:8080/"
        },
        "id": "3SYzf1V7uqWj",
        "outputId": "9f23aa94-5bc2-4491-d5fa-8c017965bd8d"
      },
      "outputs": [
        {
          "output_type": "stream",
          "name": "stdout",
          "text": [
            "0\n",
            "1\n",
            "2\n",
            "3\n",
            "4\n"
          ]
        }
      ],
      "source": [
        "for x in range(5):\n",
        "  print(x)"
      ]
    },
    {
      "cell_type": "code",
      "source": [
        "for z in range (2,5):\n",
        " print(z)"
      ],
      "metadata": {
        "colab": {
          "base_uri": "https://localhost:8080/"
        },
        "id": "A6TzJCYtvidZ",
        "outputId": "682b46f9-1632-4116-8eb6-51f0aef2ba88"
      },
      "execution_count": 7,
      "outputs": [
        {
          "output_type": "stream",
          "name": "stdout",
          "text": [
            "2\n",
            "3\n",
            "4\n"
          ]
        }
      ]
    },
    {
      "cell_type": "code",
      "source": [
        "print(\"La instruccion break\")\n",
        "variablez = True #Variable tipo booleana\n",
        "for i in range (1,6):\n",
        "  print(\"Esto es un print dentro del for\")\n",
        "  if variablez:\n",
        "    print(\"Entro al If\")\n",
        "    break\n",
        "print(\"Fuera del For\")\n",
        "\n",
        "\n",
        "#continuacion ejemplo\n",
        "print(\"\\nLa Instruccion continua:\")\n",
        "for i in range ( 1,6):\n",
        "  if i == 3:\n",
        "    continue\n",
        "  print(\"Dentro del bucle.\", i)\n",
        "print(\"Fuera del bucle\")"
      ],
      "metadata": {
        "colab": {
          "base_uri": "https://localhost:8080/"
        },
        "id": "ULHa8eTEwwzT",
        "outputId": "feaac03c-12ea-4857-9a7c-43ecb10f2ff9"
      },
      "execution_count": 14,
      "outputs": [
        {
          "output_type": "stream",
          "name": "stdout",
          "text": [
            "La instruccion break\n",
            "Esto es un print dentro del for\n",
            "Entro al If\n",
            "Fuera del For\n",
            "\n",
            "La Instruccion continua:\n",
            "Dentro del bucle. 1\n",
            "Dentro del bucle. 2\n",
            "Dentro del bucle. 4\n",
            "Dentro del bucle. 5\n",
            "Fuera del bucle\n"
          ]
        }
      ]
    },
    {
      "cell_type": "code",
      "source": [
        "frutas = [\"Platano\",\"Naranja\",\"manzana\"]\n",
        "for x in frutas:\n",
        "  print(x)\n",
        "  if x == \"Naranja\":\n",
        "    break"
      ],
      "metadata": {
        "colab": {
          "base_uri": "https://localhost:8080/"
        },
        "id": "lL-LLTXJzO0O",
        "outputId": "b1f266ab-e5ef-45f1-f897-b87c258c881a"
      },
      "execution_count": 19,
      "outputs": [
        {
          "output_type": "stream",
          "name": "stdout",
          "text": [
            "Platano\n",
            "Naranja\n"
          ]
        }
      ]
    },
    {
      "cell_type": "code",
      "source": [
        "n = 0\n",
        "while n !=3:\n",
        "  print(n)\n",
        "  n += 1\n",
        "else:\n",
        "  print(n, \"else\")\n",
        "print()#Para generar una linea en blanco\n",
        "for i in range (0,3):\n",
        "  print(i)\n",
        "else:\n",
        "  print(i, \"else\")"
      ],
      "metadata": {
        "colab": {
          "base_uri": "https://localhost:8080/"
        },
        "id": "H9U2vyTF0UxZ",
        "outputId": "6fdb950f-cd54-440d-aca6-d37739dcab30"
      },
      "execution_count": 22,
      "outputs": [
        {
          "output_type": "stream",
          "name": "stdout",
          "text": [
            "0\n",
            "1\n",
            "2\n",
            "3 else\n",
            "\n",
            "0\n",
            "1\n",
            "2\n",
            "2 else\n"
          ]
        }
      ]
    },
    {
      "cell_type": "markdown",
      "source": [
        "#FUNCIONES"
      ],
      "metadata": {
        "id": "VfA9HGln2O2M"
      }
    },
    {
      "cell_type": "code",
      "source": [
        "def funcion_saludar():\n",
        "  print(\"Hola Mundo, desde mi primera funcion\")"
      ],
      "metadata": {
        "id": "Ovv5cCpp2NfH"
      },
      "execution_count": 24,
      "outputs": []
    },
    {
      "cell_type": "code",
      "source": [
        "funcion_saludar()"
      ],
      "metadata": {
        "colab": {
          "base_uri": "https://localhost:8080/"
        },
        "id": "e-He6KOu2o1r",
        "outputId": "a5468481-7a32-4e64-f7e1-61675e2b52aa"
      },
      "execution_count": 25,
      "outputs": [
        {
          "output_type": "stream",
          "name": "stdout",
          "text": [
            "Hola Mundo, desde mi primera funcion\n"
          ]
        }
      ]
    },
    {
      "cell_type": "markdown",
      "source": [
        "#PARAMETROS EN FUNCIONES\n"
      ],
      "metadata": {
        "id": "JJcqMcDa2wAm"
      }
    },
    {
      "cell_type": "markdown",
      "source": [
        "Tablas de Multiplicar"
      ],
      "metadata": {
        "id": "La3vEhby3akO"
      }
    },
    {
      "cell_type": "code",
      "source": [
        "def tablas_multiplicar(x):\n",
        "  for z in range (1,11):\n",
        "    print(x, \"x\", z, \"=\", x * z)\n",
        "  print(\"\\nFin de la Funcion\")"
      ],
      "metadata": {
        "id": "i-cfeW-E2zNS"
      },
      "execution_count": 6,
      "outputs": []
    },
    {
      "cell_type": "code",
      "source": [
        "tablas_multiplicar(325)"
      ],
      "metadata": {
        "colab": {
          "base_uri": "https://localhost:8080/"
        },
        "id": "LmWlGVY63RoV",
        "outputId": "1bc5d691-d37d-4828-b445-be87e91ca479"
      },
      "execution_count": 7,
      "outputs": [
        {
          "output_type": "stream",
          "name": "stdout",
          "text": [
            "325 x 1 = 325\n",
            "325 x 2 = 650\n",
            "325 x 3 = 975\n",
            "325 x 4 = 1300\n",
            "325 x 5 = 1625\n",
            "325 x 6 = 1950\n",
            "325 x 7 = 2275\n",
            "325 x 8 = 2600\n",
            "325 x 9 = 2925\n",
            "325 x 10 = 3250\n",
            "325 x 11 = 3575\n",
            "325 x 12 = 3900\n",
            "325 x 13 = 4225\n",
            "325 x 14 = 4550\n",
            "325 x 15 = 4875\n",
            "325 x 16 = 5200\n",
            "325 x 17 = 5525\n",
            "325 x 18 = 5850\n",
            "325 x 19 = 6175\n",
            "325 x 20 = 6500\n",
            "\n",
            "Fin de la Funcion\n"
          ]
        }
      ]
    }
  ]
}